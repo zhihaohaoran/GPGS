{
  "cells": [
    {
      "cell_type": "markdown",
      "metadata": {
        "id": "view-in-github",
        "colab_type": "text"
      },
      "source": [
        "<a href=\"https://colab.research.google.com/github/zhihaohaoran/GPGS/blob/main/icml_3dgs.ipynb\" target=\"_parent\"><img src=\"https://colab.research.google.com/assets/colab-badge.svg\" alt=\"Open In Colab\"/></a>"
      ]
    },
    {
      "cell_type": "code",
      "execution_count": 1,
      "metadata": {
        "colab": {
          "base_uri": "https://localhost:8080/"
        },
        "id": "WhoWJ5zm0pBw",
        "outputId": "eef7715d-f50d-4c37-a950-b801388a6265"
      },
      "outputs": [
        {
          "output_type": "stream",
          "name": "stdout",
          "text": [
            "Mounted at /content/drive\n"
          ]
        }
      ],
      "source": [
        "from google.colab import drive\n",
        "drive.mount('/content/drive')"
      ]
    },
    {
      "cell_type": "code",
      "source": [
        "%cd /content/drive/MyDrive\n",
        "!git clone --recursive https://github.com/NVlabs/tiny-cuda-nn.git\n",
        "%cd tiny-cuda-nn\n",
        "# ✅ Step 3：重新构建\n",
        "!cmake . -B build -DCMAKE_BUILD_TYPE=RelWithDebInfo -DTCNN_BUILD_PYTHON=ON\n",
        "!cmake --build build --config RelWithDebInfo -j\n",
        "\n",
        "# ✅ Step 4：进入 Python binding 目录并安装\n",
        "%cd bindings/torch\n",
        "!pip install .\n",
        "\n",
        "\n",
        "!pip install -q plyfile\n",
        "!pip install -q /content/drive/MyDrive/3dgs/gaussian-splatting/submodules/diff-gaussian-rasterization\n",
        "!pip install -q /content/drive/MyDrive/3dgs/gaussian-splatting/submodules/simple-knn\n",
        "!pip install -q /content/drive/MyDrive/3dgs/gaussian-splatting/submodules/fused-ssim"
      ],
      "metadata": {
        "colab": {
          "base_uri": "https://localhost:8080/"
        },
        "id": "YzgXBatQ47j5",
        "outputId": "897929e8-9c26-4bf6-8ab3-3194338305ab"
      },
      "execution_count": 2,
      "outputs": [
        {
          "output_type": "stream",
          "name": "stdout",
          "text": [
            "/content/drive/MyDrive\n",
            "fatal: destination path 'tiny-cuda-nn' already exists and is not an empty directory.\n",
            "/content/drive/MyDrive/tiny-cuda-nn\n",
            "-- Obtained CUDA architectures automatically from installed GPUs\n",
            "-- Targeting CUDA architectures: 80\n",
            "-- Module support is disabled.\n",
            "-- Version: 9.1.1\n",
            "-- Build type: RelWithDebInfo\n",
            "-- Configuring done (8.3s)\n",
            "-- Generating done (17.6s)\n",
            "-- Build files have been written to: /content/drive/MyDrive/tiny-cuda-nn/build\n",
            "[  5%] Built target fmt\n",
            "[ 60%] Built target tiny-cuda-nn\n",
            "[ 75%] Built target bench_image_ours\n",
            "[ 90%] Built target mlp_learning_an_image\n",
            "/content/drive/MyDrive/tiny-cuda-nn/bindings/torch\n",
            "Processing /content/drive/MyDrive/tiny-cuda-nn/bindings/torch\n",
            "  Preparing metadata (setup.py) ... \u001b[?25l\u001b[?25hdone\n",
            "Building wheels for collected packages: tinycudann\n",
            "  Building wheel for tinycudann (setup.py) ... \u001b[?25l\u001b[?25hdone\n",
            "  Created wheel for tinycudann: filename=tinycudann-1.7-cp311-cp311-linux_x86_64.whl size=30073495 sha256=21c31047fc67bffe57ae88b792ce6b0d4e436cbdf3d25f0c1697bc2107600797\n",
            "  Stored in directory: /tmp/pip-ephem-wheel-cache-egblyk2r/wheels/a3/a6/02/1cc86c8b8807733dbaae73a6ae77f6498fab8ec5b2313399e2\n",
            "Successfully built tinycudann\n",
            "Installing collected packages: tinycudann\n",
            "Successfully installed tinycudann-1.7\n",
            "\u001b[2K     \u001b[90m━━━━━━━━━━━━━━━━━━━━━━━━━━━━━━━━━━━━━━━━\u001b[0m \u001b[32m43.3/43.3 kB\u001b[0m \u001b[31m1.9 MB/s\u001b[0m eta \u001b[36m0:00:00\u001b[0m\n",
            "\u001b[?25h  Preparing metadata (setup.py) ... \u001b[?25l\u001b[?25hdone\n",
            "  Building wheel for diff_gaussian_rasterization (setup.py) ... \u001b[?25l\u001b[?25hdone\n",
            "  Preparing metadata (setup.py) ... \u001b[?25l\u001b[?25hdone\n",
            "  Building wheel for simple_knn (setup.py) ... \u001b[?25l\u001b[?25hdone\n",
            "  Preparing metadata (setup.py) ... \u001b[?25l\u001b[?25hdone\n",
            "  Building wheel for fused_ssim (setup.py) ... \u001b[?25l\u001b[?25hdone\n"
          ]
        }
      ]
    },
    {
      "cell_type": "code",
      "source": [
        "%cd /content/drive/MyDrive/3dgs/gaussian-splatting/ViewingDirectionGaussianSplatting"
      ],
      "metadata": {
        "colab": {
          "base_uri": "https://localhost:8080/"
        },
        "id": "4W_qW3zprpet",
        "outputId": "34c71a43-8f7c-4ce7-e4db-4a81e64f365a"
      },
      "execution_count": null,
      "outputs": [
        {
          "output_type": "stream",
          "name": "stdout",
          "text": [
            "/content/drive/MyDrive/3dgs/gaussian-splatting/ViewingDirectionGaussianSplatting\n"
          ]
        }
      ]
    },
    {
      "cell_type": "code",
      "source": [
        "%cd /content/drive/MyDrive/3dgs/gaussian-splatting/oursopacity"
      ],
      "metadata": {
        "colab": {
          "base_uri": "https://localhost:8080/"
        },
        "id": "y2AkWRJvs9lz",
        "outputId": "bf3ba07f-236a-4b55-93c6-aac3eb51138b"
      },
      "execution_count": 46,
      "outputs": [
        {
          "output_type": "stream",
          "name": "stdout",
          "text": [
            "/content/drive/MyDrive/3dgs/gaussian-splatting/oursopacity\n"
          ]
        }
      ]
    },
    {
      "cell_type": "code",
      "source": [
        "!pip install commentjson"
      ],
      "metadata": {
        "colab": {
          "base_uri": "https://localhost:8080/"
        },
        "id": "L8SJax7Qvgop",
        "outputId": "4497ae8b-07e3-4f3b-c8af-86eba884bff8"
      },
      "execution_count": 4,
      "outputs": [
        {
          "output_type": "stream",
          "name": "stdout",
          "text": [
            "Collecting commentjson\n",
            "  Downloading commentjson-0.9.0.tar.gz (8.7 kB)\n",
            "  Preparing metadata (setup.py) ... \u001b[?25l\u001b[?25hdone\n",
            "Collecting lark-parser<0.8.0,>=0.7.1 (from commentjson)\n",
            "  Downloading lark-parser-0.7.8.tar.gz (276 kB)\n",
            "\u001b[2K     \u001b[90m━━━━━━━━━━━━━━━━━━━━━━━━━━━━━━━━━━━━━━━\u001b[0m \u001b[32m276.2/276.2 kB\u001b[0m \u001b[31m5.7 MB/s\u001b[0m eta \u001b[36m0:00:00\u001b[0m\n",
            "\u001b[?25h  Preparing metadata (setup.py) ... \u001b[?25l\u001b[?25hdone\n",
            "Building wheels for collected packages: commentjson, lark-parser\n",
            "  Building wheel for commentjson (setup.py) ... \u001b[?25l\u001b[?25hdone\n",
            "  Created wheel for commentjson: filename=commentjson-0.9.0-py3-none-any.whl size=12077 sha256=0ec2a34a27363080c48aac71e7a66ba171e2293baa3d7089519563cd1bbf435c\n",
            "  Stored in directory: /root/.cache/pip/wheels/f2/cb/58/77f1f0b3f5fa6eb3335cb0cb73de4d4bef93489dc3a3373ae8\n",
            "  Building wheel for lark-parser (setup.py) ... \u001b[?25l\u001b[?25hdone\n",
            "  Created wheel for lark-parser: filename=lark_parser-0.7.8-py2.py3-none-any.whl size=62511 sha256=60d83904f023d75800e06ee3e296122d81c537f3fa3386d4ee25ae4e86e48dc2\n",
            "  Stored in directory: /root/.cache/pip/wheels/6c/c7/01/d277a7a673ffc81a1e71e816c2e5bc5f1602f9e8192c25d21c\n",
            "Successfully built commentjson lark-parser\n",
            "Installing collected packages: lark-parser, commentjson\n",
            "Successfully installed commentjson-0.9.0 lark-parser-0.7.8\n"
          ]
        }
      ]
    },
    {
      "cell_type": "code",
      "source": [
        "!pwd"
      ],
      "metadata": {
        "colab": {
          "base_uri": "https://localhost:8080/"
        },
        "id": "YNy10GLDnJrq",
        "outputId": "72aaaeb2-158b-471a-810f-ee5a30f46bc0"
      },
      "execution_count": 47,
      "outputs": [
        {
          "output_type": "stream",
          "name": "stdout",
          "text": [
            "/content/drive/MyDrive/3dgs/gaussian-splatting/oursopacity\n"
          ]
        }
      ]
    },
    {
      "cell_type": "code",
      "source": [
        "%cd /content/drive/MyDrive/3dgs/3dgs_original/gaussian-splatting"
      ],
      "metadata": {
        "colab": {
          "base_uri": "https://localhost:8080/"
        },
        "id": "GTd5W9ONEDba",
        "outputId": "a0716aa5-9fcd-4fd5-9575-28ec2075fe5f"
      },
      "execution_count": 40,
      "outputs": [
        {
          "output_type": "stream",
          "name": "stdout",
          "text": [
            "/content/drive/MyDrive/3dgs/3dgs_original/gaussian-splatting\n"
          ]
        }
      ]
    },
    {
      "cell_type": "code",
      "source": [
        "!ls"
      ],
      "metadata": {
        "colab": {
          "base_uri": "https://localhost:8080/"
        },
        "id": "hGT9HiAWxIun",
        "outputId": "5b42690c-d4ae-4b7f-8d49-3f8e00c2dfd3"
      },
      "execution_count": null,
      "outputs": [
        {
          "output_type": "stream",
          "name": "stdout",
          "text": [
            "bicycle_24  bonsai_24  counter_24  garden_24  kitchen_24\n"
          ]
        }
      ]
    },
    {
      "cell_type": "code",
      "source": [
        "!python train.py -s /content/drive/MyDrive/sparse_views_mipnerf/MVimgNet/car/24_views --eval --iteration=6000"
      ],
      "metadata": {
        "colab": {
          "base_uri": "https://localhost:8080/"
        },
        "id": "n8dVXzkTEUWU",
        "outputId": "afab02cb-e369-4c97-d40f-cae0b06228cd"
      },
      "execution_count": 42,
      "outputs": [
        {
          "output_type": "stream",
          "name": "stdout",
          "text": [
            "2025-07-17 12:34:47.530504: I tensorflow/core/util/port.cc:153] oneDNN custom operations are on. You may see slightly different numerical results due to floating-point round-off errors from different computation orders. To turn them off, set the environment variable `TF_ENABLE_ONEDNN_OPTS=0`.\n",
            "2025-07-17 12:34:47.547681: E external/local_xla/xla/stream_executor/cuda/cuda_fft.cc:477] Unable to register cuFFT factory: Attempting to register factory for plugin cuFFT when one has already been registered\n",
            "WARNING: All log messages before absl::InitializeLog() is called are written to STDERR\n",
            "E0000 00:00:1752755687.568693   54585 cuda_dnn.cc:8310] Unable to register cuDNN factory: Attempting to register factory for plugin cuDNN when one has already been registered\n",
            "E0000 00:00:1752755687.575132   54585 cuda_blas.cc:1418] Unable to register cuBLAS factory: Attempting to register factory for plugin cuBLAS when one has already been registered\n",
            "2025-07-17 12:34:47.596180: I tensorflow/core/platform/cpu_feature_guard.cc:210] This TensorFlow binary is optimized to use available CPU instructions in performance-critical operations.\n",
            "To enable the following instructions: AVX2 AVX512F AVX512_VNNI FMA, in other operations, rebuild TensorFlow with the appropriate compiler flags.\n",
            "Optimizing \n",
            "Output folder: ./output/6b9b19ae-7 [17/07 12:34:51]\n",
            "------------LLFF HOLD------------- [17/07 12:34:51]\n",
            "Reading camera 24/24 [17/07 12:34:51]\n",
            "Loading Training Cameras [17/07 12:34:51]\n",
            "Loading Test Cameras [17/07 12:34:52]\n",
            "Number of points at initialisation :  11880 [17/07 12:34:52]\n",
            "Training progress:   2% 100/6000 [00:04<03:52, 25.43it/s, Loss=0.1313339, Depth Loss=0.0000000]\n",
            "[ITER   100] Evaluating test            | L1: 0.082801 | PSNR: 18.3062 | SSIM: 0.6375 | LPIPS: 0.4980 [17/07 12:35:03]\n",
            "Training progress:   2% 100/6000 [00:20<03:52, 25.43it/s, Loss=0.1313339, Depth Loss=0.0000000]\n",
            "[ITER   100] Evaluating train           | L1: 0.084727 | PSNR: 18.1147 | SSIM: 0.6343 | LPIPS: 0.5004 [17/07 12:35:14]\n",
            "Training progress:  33% 2000/6000 [01:11<01:38, 40.72it/s, Loss=0.0230045, Depth Loss=0.0000000]\n",
            "[ITER  2000] Evaluating test            | L1: 0.019646 | PSNR: 29.0277 | SSIM: 0.9133 | LPIPS: 0.1823 [17/07 12:36:09]\n",
            "\n",
            "[ITER  2000] Evaluating train           | L1: 0.014980 | PSNR: 31.1565 | SSIM: 0.9379 | LPIPS: 0.1653 [17/07 12:36:19]\n",
            "Training progress:  83% 5000/6000 [02:30<00:18, 54.08it/s, Loss=0.0168896, Depth Loss=0.0000000]\n",
            "[ITER  5000] Evaluating test            | L1: 0.018849 | PSNR: 29.0846 | SSIM: 0.9235 | LPIPS: 0.1619 [17/07 12:37:28]\n",
            "\n",
            "[ITER  5000] Evaluating train           | L1: 0.011857 | PSNR: 33.7102 | SSIM: 0.9591 | LPIPS: 0.1307 [17/07 12:37:38]\n",
            "Training progress: 100% 6000/6000 [03:04<00:00, 32.52it/s, Loss=0.0163063, Depth Loss=0.0000000]\n",
            "\n",
            "[ITER 6000] Saving Gaussians [17/07 12:37:56]\n",
            "\n",
            "Training complete. [17/07 12:38:00]\n"
          ]
        }
      ]
    },
    {
      "cell_type": "code",
      "source": [
        "!python train.py -s /content/drive/MyDrive/sparse_views_mipnerf/MVimgNet/ladder/24_views --eval --vdgs_type opacity --vdgs_operator mul --iteration=6000"
      ],
      "metadata": {
        "colab": {
          "base_uri": "https://localhost:8080/"
        },
        "id": "M7DqRUkZt7W4",
        "outputId": "cd9400b9-8d25-45b7-bce7-a4e3154a718b"
      },
      "execution_count": 48,
      "outputs": [
        {
          "output_type": "stream",
          "name": "stdout",
          "text": [
            "2025-07-17 12:46:32.656909: I tensorflow/core/util/port.cc:153] oneDNN custom operations are on. You may see slightly different numerical results due to floating-point round-off errors from different computation orders. To turn them off, set the environment variable `TF_ENABLE_ONEDNN_OPTS=0`.\n",
            "2025-07-17 12:46:32.674647: E external/local_xla/xla/stream_executor/cuda/cuda_fft.cc:477] Unable to register cuFFT factory: Attempting to register factory for plugin cuFFT when one has already been registered\n",
            "WARNING: All log messages before absl::InitializeLog() is called are written to STDERR\n",
            "E0000 00:00:1752756392.696585   57652 cuda_dnn.cc:8310] Unable to register cuDNN factory: Attempting to register factory for plugin cuDNN when one has already been registered\n",
            "E0000 00:00:1752756392.703308   57652 cuda_blas.cc:1418] Unable to register cuBLAS factory: Attempting to register factory for plugin cuBLAS when one has already been registered\n",
            "2025-07-17 12:46:32.724877: I tensorflow/core/platform/cpu_feature_guard.cc:210] This TensorFlow binary is optimized to use available CPU instructions in performance-critical operations.\n",
            "To enable the following instructions: AVX2 AVX512F AVX512_VNNI FMA, in other operations, rebuild TensorFlow with the appropriate compiler flags.\n",
            "Optimizing \n",
            "Output folder: /content/drive/MyDrive/3dgs/gaussian-splatting/output/output111/e0bf3911-2 [17/07 12:46:36]\n",
            "Reading camera 24/24 [17/07 12:46:46]\n",
            "Converting point3d.bin to .ply, will happen only the first time you open the scene. [17/07 12:46:46]\n",
            "Loading Training Cameras [17/07 12:46:47]\n",
            "Loading Test Cameras [17/07 12:46:48]\n",
            "Number of points at initialisation :  34440 [17/07 12:46:48]\n",
            "outputsize---is-----------: 1 [17/07 12:46:48]\n",
            "Training progress:   2% 100/6000 [00:07<07:39, 12.83it/s, Loss=0.2109161]\n",
            "[ITER   100] Evaluating test            | L1: 0.108523 | PSNR: 16.4838 | SSIM: 0.3518 | LPIPS: 0.6534 [17/07 12:47:07]\n",
            "Training progress:   2% 100/6000 [00:20<07:39, 12.83it/s, Loss=0.2109161]\n",
            "[ITER   100] Evaluating train           | L1: 0.108249 | PSNR: 16.4320 | SSIM: 0.3194 | LPIPS: 0.6565 [17/07 12:47:26]\n",
            "Training progress:  33% 2000/6000 [02:28<04:04, 16.35it/s, Loss=0.1024369]\n",
            "[ITER  2000] Evaluating test            | L1: 0.056652 | PSNR: 20.3636 | SSIM: 0.6305 | LPIPS: 0.3519 [17/07 12:49:26]\n",
            "Training progress:  33% 2000/6000 [02:40<04:04, 16.35it/s, Loss=0.1024369]\n",
            "[ITER  2000] Evaluating train           | L1: 0.048245 | PSNR: 21.5113 | SSIM: 0.6993 | LPIPS: 0.3196 [17/07 12:49:41]\n",
            "Training progress:  50% 3000/6000 [04:01<03:43, 13.45it/s, Loss=0.0834180]\n",
            "[ITER  3000] Evaluating test            | L1: 0.054039 | PSNR: 20.5357 | SSIM: 0.6704 | LPIPS: 0.2957 [17/07 12:50:58]\n",
            "Training progress:  50% 3000/6000 [04:20<03:43, 13.45it/s, Loss=0.0834180]\n",
            "[ITER  3000] Evaluating train           | L1: 0.041091 | PSNR: 22.6241 | SSIM: 0.7754 | LPIPS: 0.2430 [17/07 12:51:14]\n",
            "Training progress:  67% 4000/6000 [05:40<02:35, 12.88it/s, Loss=0.0605372]\n",
            "[ITER  4000] Evaluating test            | L1: 0.053079 | PSNR: 20.5077 | SSIM: 0.6833 | LPIPS: 0.2720 [17/07 12:52:38]\n",
            "Training progress:  67% 4000/6000 [06:00<02:35, 12.88it/s, Loss=0.0605372]\n",
            "[ITER  4000] Evaluating train           | L1: 0.035337 | PSNR: 23.8592 | SSIM: 0.8272 | LPIPS: 0.1982 [17/07 12:52:53]\n",
            "Training progress:  83% 5000/6000 [07:26<01:23, 12.01it/s, Loss=0.0588235]\n",
            "[ITER  5000] Evaluating test            | L1: 0.053200 | PSNR: 20.4855 | SSIM: 0.6861 | LPIPS: 0.2623 [17/07 12:54:24]\n",
            "Training progress:  83% 5000/6000 [07:40<01:23, 12.01it/s, Loss=0.0588235]\n",
            "[ITER  5000] Evaluating train           | L1: 0.032220 | PSNR: 24.7737 | SSIM: 0.8549 | LPIPS: 0.1756 [17/07 12:54:39]\n",
            "Training progress: 100% 6000/6000 [09:16<00:00, 10.78it/s, Loss=0.0503633]\n",
            "\n",
            "[ITER  6000] Evaluating test            | L1: 0.053501 | PSNR: 20.4373 | SSIM: 0.6845 | LPIPS: 0.2591 [17/07 12:56:14]\n",
            "\n",
            "[ITER  6000] Evaluating train           | L1: 0.029468 | PSNR: 25.4449 | SSIM: 0.8746 | LPIPS: 0.1574 [17/07 12:56:29]\n",
            "\n",
            "[ITER 6000] Saving Gaussians [17/07 12:56:29]\n",
            "\n",
            "Training complete. [17/07 12:56:48]\n"
          ]
        }
      ]
    },
    {
      "cell_type": "code",
      "source": [
        "!python render.py -m /content/drive/MyDrive/3dgs/gaussian-splatting/output/output111/e0bf3911-2"
      ],
      "metadata": {
        "colab": {
          "base_uri": "https://localhost:8080/"
        },
        "id": "A1CIy41wdaj2",
        "outputId": "ac36a4b9-88e9-46ff-cab9-2f601dd946ce"
      },
      "execution_count": 51,
      "outputs": [
        {
          "output_type": "stream",
          "name": "stdout",
          "text": [
            "Looking for config file in /content/drive/MyDrive/3dgs/gaussian-splatting/output/output111/e0bf3911-2/cfg_args\n",
            "Config file found: /content/drive/MyDrive/3dgs/gaussian-splatting/output/output111/e0bf3911-2/cfg_args\n",
            "Rendering /content/drive/MyDrive/3dgs/gaussian-splatting/output/output111/e0bf3911-2\n",
            "Loading trained model at iteration 6000 [17/07 12:58:43]\n",
            "Reading camera 24/24 [17/07 12:58:43]\n",
            "Loading Training Cameras [17/07 12:58:43]\n",
            "Loading Test Cameras [17/07 12:58:44]\n",
            "Rendering progress: 100% 21/21 [00:36<00:00,  1.72s/it]\n",
            "Rendering progress: 100% 3/3 [00:05<00:00,  1.72s/it]\n"
          ]
        }
      ]
    },
    {
      "cell_type": "code",
      "source": [
        "!python metrics.py -m /content/drive/MyDrive/3dgs/gaussian-splatting/output/output111/e0bf3911-2"
      ],
      "metadata": {
        "colab": {
          "base_uri": "https://localhost:8080/"
        },
        "id": "eeoxImEfbd-J",
        "outputId": "8ac3c570-7d6a-4b95-84c6-4a09b77e9f51"
      },
      "execution_count": 52,
      "outputs": [
        {
          "output_type": "stream",
          "name": "stdout",
          "text": [
            "\n",
            "Scene: /content/drive/MyDrive/3dgs/gaussian-splatting/output/output111/e0bf3911-2\n",
            "Method: ours_6000\n",
            "Metric evaluation progress: 100% 3/3 [00:04<00:00,  1.59s/it]\n",
            "  SSIM :    0.6842331\n",
            "  PSNR :   20.4289646\n",
            "  LPIPS:    0.2590058\n",
            "\n"
          ]
        }
      ]
    },
    {
      "cell_type": "code",
      "source": [
        "!pip install open3d"
      ],
      "metadata": {
        "colab": {
          "base_uri": "https://localhost:8080/"
        },
        "id": "iLggy4JW40q5",
        "outputId": "e5869fbc-418a-403a-a215-ccf695356619"
      },
      "execution_count": 9,
      "outputs": [
        {
          "output_type": "stream",
          "name": "stdout",
          "text": [
            "Collecting open3d\n",
            "  Downloading open3d-0.19.0-cp311-cp311-manylinux_2_31_x86_64.whl.metadata (4.3 kB)\n",
            "Requirement already satisfied: numpy>=1.18.0 in /usr/local/lib/python3.11/dist-packages (from open3d) (2.0.2)\n",
            "Collecting dash>=2.6.0 (from open3d)\n",
            "  Downloading dash-3.1.1-py3-none-any.whl.metadata (10 kB)\n",
            "Requirement already satisfied: werkzeug>=3.0.0 in /usr/local/lib/python3.11/dist-packages (from open3d) (3.1.3)\n",
            "Requirement already satisfied: flask>=3.0.0 in /usr/local/lib/python3.11/dist-packages (from open3d) (3.1.1)\n",
            "Requirement already satisfied: nbformat>=5.7.0 in /usr/local/lib/python3.11/dist-packages (from open3d) (5.10.4)\n",
            "Collecting configargparse (from open3d)\n",
            "  Downloading configargparse-1.7.1-py3-none-any.whl.metadata (24 kB)\n",
            "Collecting ipywidgets>=8.0.4 (from open3d)\n",
            "  Downloading ipywidgets-8.1.7-py3-none-any.whl.metadata (2.4 kB)\n",
            "Collecting addict (from open3d)\n",
            "  Downloading addict-2.4.0-py3-none-any.whl.metadata (1.0 kB)\n",
            "Requirement already satisfied: pillow>=9.3.0 in /usr/local/lib/python3.11/dist-packages (from open3d) (11.2.1)\n",
            "Requirement already satisfied: matplotlib>=3 in /usr/local/lib/python3.11/dist-packages (from open3d) (3.10.0)\n",
            "Requirement already satisfied: pandas>=1.0 in /usr/local/lib/python3.11/dist-packages (from open3d) (2.2.2)\n",
            "Requirement already satisfied: pyyaml>=5.4.1 in /usr/local/lib/python3.11/dist-packages (from open3d) (6.0.2)\n",
            "Requirement already satisfied: scikit-learn>=0.21 in /usr/local/lib/python3.11/dist-packages (from open3d) (1.6.1)\n",
            "Requirement already satisfied: tqdm in /usr/local/lib/python3.11/dist-packages (from open3d) (4.67.1)\n",
            "Collecting pyquaternion (from open3d)\n",
            "  Downloading pyquaternion-0.9.9-py3-none-any.whl.metadata (1.4 kB)\n",
            "Requirement already satisfied: plotly>=5.0.0 in /usr/local/lib/python3.11/dist-packages (from dash>=2.6.0->open3d) (5.24.1)\n",
            "Requirement already satisfied: importlib-metadata in /usr/local/lib/python3.11/dist-packages (from dash>=2.6.0->open3d) (8.7.0)\n",
            "Requirement already satisfied: typing-extensions>=4.1.1 in /usr/local/lib/python3.11/dist-packages (from dash>=2.6.0->open3d) (4.14.1)\n",
            "Requirement already satisfied: requests in /usr/local/lib/python3.11/dist-packages (from dash>=2.6.0->open3d) (2.32.3)\n",
            "Collecting retrying (from dash>=2.6.0->open3d)\n",
            "  Downloading retrying-1.4.0-py3-none-any.whl.metadata (7.5 kB)\n",
            "Requirement already satisfied: nest-asyncio in /usr/local/lib/python3.11/dist-packages (from dash>=2.6.0->open3d) (1.6.0)\n",
            "Requirement already satisfied: setuptools in /usr/local/lib/python3.11/dist-packages (from dash>=2.6.0->open3d) (75.2.0)\n",
            "Requirement already satisfied: blinker>=1.9.0 in /usr/local/lib/python3.11/dist-packages (from flask>=3.0.0->open3d) (1.9.0)\n",
            "Requirement already satisfied: click>=8.1.3 in /usr/local/lib/python3.11/dist-packages (from flask>=3.0.0->open3d) (8.2.1)\n",
            "Requirement already satisfied: itsdangerous>=2.2.0 in /usr/local/lib/python3.11/dist-packages (from flask>=3.0.0->open3d) (2.2.0)\n",
            "Requirement already satisfied: jinja2>=3.1.2 in /usr/local/lib/python3.11/dist-packages (from flask>=3.0.0->open3d) (3.1.6)\n",
            "Requirement already satisfied: markupsafe>=2.1.1 in /usr/local/lib/python3.11/dist-packages (from flask>=3.0.0->open3d) (3.0.2)\n",
            "Collecting comm>=0.1.3 (from ipywidgets>=8.0.4->open3d)\n",
            "  Downloading comm-0.2.2-py3-none-any.whl.metadata (3.7 kB)\n",
            "Requirement already satisfied: ipython>=6.1.0 in /usr/local/lib/python3.11/dist-packages (from ipywidgets>=8.0.4->open3d) (7.34.0)\n",
            "Requirement already satisfied: traitlets>=4.3.1 in /usr/local/lib/python3.11/dist-packages (from ipywidgets>=8.0.4->open3d) (5.7.1)\n",
            "Collecting widgetsnbextension~=4.0.14 (from ipywidgets>=8.0.4->open3d)\n",
            "  Downloading widgetsnbextension-4.0.14-py3-none-any.whl.metadata (1.6 kB)\n",
            "Requirement already satisfied: jupyterlab_widgets~=3.0.15 in /usr/local/lib/python3.11/dist-packages (from ipywidgets>=8.0.4->open3d) (3.0.15)\n",
            "Requirement already satisfied: contourpy>=1.0.1 in /usr/local/lib/python3.11/dist-packages (from matplotlib>=3->open3d) (1.3.2)\n",
            "Requirement already satisfied: cycler>=0.10 in /usr/local/lib/python3.11/dist-packages (from matplotlib>=3->open3d) (0.12.1)\n",
            "Requirement already satisfied: fonttools>=4.22.0 in /usr/local/lib/python3.11/dist-packages (from matplotlib>=3->open3d) (4.58.5)\n",
            "Requirement already satisfied: kiwisolver>=1.3.1 in /usr/local/lib/python3.11/dist-packages (from matplotlib>=3->open3d) (1.4.8)\n",
            "Requirement already satisfied: packaging>=20.0 in /usr/local/lib/python3.11/dist-packages (from matplotlib>=3->open3d) (24.2)\n",
            "Requirement already satisfied: pyparsing>=2.3.1 in /usr/local/lib/python3.11/dist-packages (from matplotlib>=3->open3d) (3.2.3)\n",
            "Requirement already satisfied: python-dateutil>=2.7 in /usr/local/lib/python3.11/dist-packages (from matplotlib>=3->open3d) (2.9.0.post0)\n",
            "Requirement already satisfied: fastjsonschema>=2.15 in /usr/local/lib/python3.11/dist-packages (from nbformat>=5.7.0->open3d) (2.21.1)\n",
            "Requirement already satisfied: jsonschema>=2.6 in /usr/local/lib/python3.11/dist-packages (from nbformat>=5.7.0->open3d) (4.24.0)\n",
            "Requirement already satisfied: jupyter-core!=5.0.*,>=4.12 in /usr/local/lib/python3.11/dist-packages (from nbformat>=5.7.0->open3d) (5.8.1)\n",
            "Requirement already satisfied: pytz>=2020.1 in /usr/local/lib/python3.11/dist-packages (from pandas>=1.0->open3d) (2025.2)\n",
            "Requirement already satisfied: tzdata>=2022.7 in /usr/local/lib/python3.11/dist-packages (from pandas>=1.0->open3d) (2025.2)\n",
            "Requirement already satisfied: scipy>=1.6.0 in /usr/local/lib/python3.11/dist-packages (from scikit-learn>=0.21->open3d) (1.15.3)\n",
            "Requirement already satisfied: joblib>=1.2.0 in /usr/local/lib/python3.11/dist-packages (from scikit-learn>=0.21->open3d) (1.5.1)\n",
            "Requirement already satisfied: threadpoolctl>=3.1.0 in /usr/local/lib/python3.11/dist-packages (from scikit-learn>=0.21->open3d) (3.6.0)\n",
            "Collecting jedi>=0.16 (from ipython>=6.1.0->ipywidgets>=8.0.4->open3d)\n",
            "  Downloading jedi-0.19.2-py2.py3-none-any.whl.metadata (22 kB)\n",
            "Requirement already satisfied: decorator in /usr/local/lib/python3.11/dist-packages (from ipython>=6.1.0->ipywidgets>=8.0.4->open3d) (4.4.2)\n",
            "Requirement already satisfied: pickleshare in /usr/local/lib/python3.11/dist-packages (from ipython>=6.1.0->ipywidgets>=8.0.4->open3d) (0.7.5)\n",
            "Requirement already satisfied: prompt-toolkit!=3.0.0,!=3.0.1,<3.1.0,>=2.0.0 in /usr/local/lib/python3.11/dist-packages (from ipython>=6.1.0->ipywidgets>=8.0.4->open3d) (3.0.51)\n",
            "Requirement already satisfied: pygments in /usr/local/lib/python3.11/dist-packages (from ipython>=6.1.0->ipywidgets>=8.0.4->open3d) (2.19.2)\n",
            "Requirement already satisfied: backcall in /usr/local/lib/python3.11/dist-packages (from ipython>=6.1.0->ipywidgets>=8.0.4->open3d) (0.2.0)\n",
            "Requirement already satisfied: matplotlib-inline in /usr/local/lib/python3.11/dist-packages (from ipython>=6.1.0->ipywidgets>=8.0.4->open3d) (0.1.7)\n",
            "Requirement already satisfied: pexpect>4.3 in /usr/local/lib/python3.11/dist-packages (from ipython>=6.1.0->ipywidgets>=8.0.4->open3d) (4.9.0)\n",
            "Requirement already satisfied: attrs>=22.2.0 in /usr/local/lib/python3.11/dist-packages (from jsonschema>=2.6->nbformat>=5.7.0->open3d) (25.3.0)\n",
            "Requirement already satisfied: jsonschema-specifications>=2023.03.6 in /usr/local/lib/python3.11/dist-packages (from jsonschema>=2.6->nbformat>=5.7.0->open3d) (2025.4.1)\n",
            "Requirement already satisfied: referencing>=0.28.4 in /usr/local/lib/python3.11/dist-packages (from jsonschema>=2.6->nbformat>=5.7.0->open3d) (0.36.2)\n",
            "Requirement already satisfied: rpds-py>=0.7.1 in /usr/local/lib/python3.11/dist-packages (from jsonschema>=2.6->nbformat>=5.7.0->open3d) (0.26.0)\n",
            "Requirement already satisfied: platformdirs>=2.5 in /usr/local/lib/python3.11/dist-packages (from jupyter-core!=5.0.*,>=4.12->nbformat>=5.7.0->open3d) (4.3.8)\n",
            "Requirement already satisfied: tenacity>=6.2.0 in /usr/local/lib/python3.11/dist-packages (from plotly>=5.0.0->dash>=2.6.0->open3d) (8.5.0)\n",
            "Requirement already satisfied: six>=1.5 in /usr/local/lib/python3.11/dist-packages (from python-dateutil>=2.7->matplotlib>=3->open3d) (1.17.0)\n",
            "Requirement already satisfied: zipp>=3.20 in /usr/local/lib/python3.11/dist-packages (from importlib-metadata->dash>=2.6.0->open3d) (3.23.0)\n",
            "Requirement already satisfied: charset-normalizer<4,>=2 in /usr/local/lib/python3.11/dist-packages (from requests->dash>=2.6.0->open3d) (3.4.2)\n",
            "Requirement already satisfied: idna<4,>=2.5 in /usr/local/lib/python3.11/dist-packages (from requests->dash>=2.6.0->open3d) (3.10)\n",
            "Requirement already satisfied: urllib3<3,>=1.21.1 in /usr/local/lib/python3.11/dist-packages (from requests->dash>=2.6.0->open3d) (2.4.0)\n",
            "Requirement already satisfied: certifi>=2017.4.17 in /usr/local/lib/python3.11/dist-packages (from requests->dash>=2.6.0->open3d) (2025.7.14)\n",
            "Requirement already satisfied: parso<0.9.0,>=0.8.4 in /usr/local/lib/python3.11/dist-packages (from jedi>=0.16->ipython>=6.1.0->ipywidgets>=8.0.4->open3d) (0.8.4)\n",
            "Requirement already satisfied: ptyprocess>=0.5 in /usr/local/lib/python3.11/dist-packages (from pexpect>4.3->ipython>=6.1.0->ipywidgets>=8.0.4->open3d) (0.7.0)\n",
            "Requirement already satisfied: wcwidth in /usr/local/lib/python3.11/dist-packages (from prompt-toolkit!=3.0.0,!=3.0.1,<3.1.0,>=2.0.0->ipython>=6.1.0->ipywidgets>=8.0.4->open3d) (0.2.13)\n",
            "Downloading open3d-0.19.0-cp311-cp311-manylinux_2_31_x86_64.whl (447.7 MB)\n",
            "\u001b[2K   \u001b[90m━━━━━━━━━━━━━━━━━━━━━━━━━━━━━━━━━━━━━━━━\u001b[0m \u001b[32m447.7/447.7 MB\u001b[0m \u001b[31m2.5 MB/s\u001b[0m eta \u001b[36m0:00:00\u001b[0m\n",
            "\u001b[?25hDownloading dash-3.1.1-py3-none-any.whl (7.9 MB)\n",
            "\u001b[2K   \u001b[90m━━━━━━━━━━━━━━━━━━━━━━━━━━━━━━━━━━━━━━━━\u001b[0m \u001b[32m7.9/7.9 MB\u001b[0m \u001b[31m136.0 MB/s\u001b[0m eta \u001b[36m0:00:00\u001b[0m\n",
            "\u001b[?25hDownloading ipywidgets-8.1.7-py3-none-any.whl (139 kB)\n",
            "\u001b[2K   \u001b[90m━━━━━━━━━━━━━━━━━━━━━━━━━━━━━━━━━━━━━━━━\u001b[0m \u001b[32m139.8/139.8 kB\u001b[0m \u001b[31m14.4 MB/s\u001b[0m eta \u001b[36m0:00:00\u001b[0m\n",
            "\u001b[?25hDownloading addict-2.4.0-py3-none-any.whl (3.8 kB)\n",
            "Downloading configargparse-1.7.1-py3-none-any.whl (25 kB)\n",
            "Downloading pyquaternion-0.9.9-py3-none-any.whl (14 kB)\n",
            "Downloading comm-0.2.2-py3-none-any.whl (7.2 kB)\n",
            "Downloading widgetsnbextension-4.0.14-py3-none-any.whl (2.2 MB)\n",
            "\u001b[2K   \u001b[90m━━━━━━━━━━━━━━━━━━━━━━━━━━━━━━━━━━━━━━━━\u001b[0m \u001b[32m2.2/2.2 MB\u001b[0m \u001b[31m97.0 MB/s\u001b[0m eta \u001b[36m0:00:00\u001b[0m\n",
            "\u001b[?25hDownloading retrying-1.4.0-py3-none-any.whl (11 kB)\n",
            "Downloading jedi-0.19.2-py2.py3-none-any.whl (1.6 MB)\n",
            "\u001b[2K   \u001b[90m━━━━━━━━━━━━━━━━━━━━━━━━━━━━━━━━━━━━━━━━\u001b[0m \u001b[32m1.6/1.6 MB\u001b[0m \u001b[31m83.2 MB/s\u001b[0m eta \u001b[36m0:00:00\u001b[0m\n",
            "\u001b[?25hInstalling collected packages: addict, widgetsnbextension, retrying, pyquaternion, jedi, configargparse, comm, ipywidgets, dash, open3d\n",
            "  Attempting uninstall: widgetsnbextension\n",
            "    Found existing installation: widgetsnbextension 3.6.10\n",
            "    Uninstalling widgetsnbextension-3.6.10:\n",
            "      Successfully uninstalled widgetsnbextension-3.6.10\n",
            "  Attempting uninstall: ipywidgets\n",
            "    Found existing installation: ipywidgets 7.7.1\n",
            "    Uninstalling ipywidgets-7.7.1:\n",
            "      Successfully uninstalled ipywidgets-7.7.1\n",
            "Successfully installed addict-2.4.0 comm-0.2.2 configargparse-1.7.1 dash-3.1.1 ipywidgets-8.1.7 jedi-0.19.2 open3d-0.19.0 pyquaternion-0.9.9 retrying-1.4.0 widgetsnbextension-4.0.14\n"
          ]
        }
      ]
    },
    {
      "cell_type": "code",
      "source": [
        "import open3d as o3d\n",
        "\n",
        "def count_ply_points(ply_file):\n",
        "    pcd = o3d.io.read_point_cloud(ply_file)\n",
        "    num_points = len(pcd.points)\n",
        "    print(f\"The PLY file '{ply_file}' contains {num_points} points.\")\n",
        "    return num_points\n",
        "\n",
        "# Example usage:\n",
        "ply_path = '/content/drive/MyDrive/3dgs/gaussian-splatting/output/output111/e0bf3911-2/point_cloud/iteration_6000/point_cloud.ply'\n",
        "count_ply_points(ply_path)\n",
        "\n"
      ],
      "metadata": {
        "colab": {
          "base_uri": "https://localhost:8080/"
        },
        "id": "2qWvaxSBEglr",
        "outputId": "32b99f25-2e7e-4e8e-82dc-aba537d649b5"
      },
      "execution_count": 49,
      "outputs": [
        {
          "output_type": "stream",
          "name": "stdout",
          "text": [
            "The PLY file '/content/drive/MyDrive/3dgs/gaussian-splatting/output/output111/e0bf3911-2/point_cloud/iteration_6000/point_cloud.ply' contains 2109951 points.\n"
          ]
        },
        {
          "output_type": "execute_result",
          "data": {
            "text/plain": [
              "2109951"
            ]
          },
          "metadata": {},
          "execution_count": 49
        }
      ]
    },
    {
      "cell_type": "code",
      "source": [
        "import torch\n",
        "import numpy as np\n",
        "import matplotlib.pyplot as plt\n",
        "\n",
        "def concrete_dropout_mask(uncertainty, temperature=0.1):\n",
        "    eps = 1e-7\n",
        "    u = torch.full_like(uncertainty, 0.5)\n",
        "    drop_logit = (\n",
        "        torch.log(uncertainty + eps)\n",
        "        - torch.log(1 - uncertainty + eps)\n",
        "        + torch.log(u + eps)\n",
        "        - torch.log(1 - u + eps)\n",
        "    )\n",
        "    z = 1 - torch.sigmoid(drop_logit / temperature)\n",
        "    return z\n",
        "\n",
        "uncertainty_vals = torch.linspace(0.01, 0.99, 300).unsqueeze(1)\n",
        "temperatures = [0.01, 0.05, 0.1, 0.2, 0.5]\n",
        "colors = ['red', 'blue', 'green', 'orange', 'purple']\n",
        "\n",
        "plt.figure(figsize=(8, 5))\n",
        "for t, c in zip(temperatures, colors):\n",
        "    mask_vals = concrete_dropout_mask(uncertainty_vals, temperature=t)\n",
        "    plt.plot(uncertainty_vals.squeeze().numpy(),\n",
        "             mask_vals.squeeze().numpy(),\n",
        "             label=f\"T = {t}\", color=c, linewidth=2)\n",
        "\n",
        "plt.title(\"Concrete Dropout Mask vs. Uncertainty\", fontsize=15, fontweight='bold')\n",
        "plt.xlabel(\"Uncertainty (Importance)\", fontsize=13)\n",
        "plt.ylabel(\"Dropout Mask Value\", fontsize=13)\n",
        "plt.grid(True, linestyle='--', alpha=0.6)\n",
        "plt.legend(title=\"Temperature\", fontsize=11, title_fontsize=12)\n",
        "plt.tight_layout()\n",
        "plt.show()\n"
      ],
      "metadata": {
        "id": "frUw1rLrmsRt",
        "colab": {
          "base_uri": "https://localhost:8080/",
          "height": 407
        },
        "outputId": "f0655ce0-7c1b-4355-ccc2-3277b6b032b3"
      },
      "execution_count": 17,
      "outputs": [
        {
          "output_type": "display_data",
          "data": {
            "text/plain": [
              "<Figure size 800x500 with 1 Axes>"
            ],
            "image/png": "[encoded data removed]"
          },
          "metadata": {}
        }
      ]
    }
  ],
  "metadata": {
    "colab": {
      "machine_shape": "hm",
      "provenance": [],
      "include_colab_link": true
    },
    "kernelspec": {
      "display_name": "Python 3",
      "name": "python3"
    },
    "language_info": {
      "name": "python"
    }
  },
  "nbformat": 4,
  "nbformat_minor": 0
}